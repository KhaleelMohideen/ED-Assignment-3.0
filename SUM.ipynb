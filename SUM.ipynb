{
 "cells": [
  {
   "cell_type": "code",
   "execution_count": 1,
   "id": "fe57f5a7",
   "metadata": {},
   "outputs": [
    {
     "name": "stdout",
     "output_type": "stream",
     "text": [
      "20\n"
     ]
    }
   ],
   "source": [
    "def sum(numbers):\n",
    "   l = 0\n",
    "   for x in numbers:\n",
    "       l += x\n",
    "   return l\n",
    "print(sum((2,10,1,4,3)))"
   ]
  },
  {
   "cell_type": "code",
   "execution_count": 2,
   "id": "08e69eea",
   "metadata": {},
   "outputs": [
    {
     "name": "stdout",
     "output_type": "stream",
     "text": [
      "107.32\n"
     ]
    }
   ],
   "source": [
    "def sum(numbers):\n",
    "   l = 0\n",
    "   for x in numbers:\n",
    "       l += x\n",
    "   return l\n",
    "print(sum((25,0.11,.21,52,30,0)))"
   ]
  },
  {
   "cell_type": "code",
   "execution_count": null,
   "id": "87e736d3",
   "metadata": {},
   "outputs": [],
   "source": []
  }
 ],
 "metadata": {
  "kernelspec": {
   "display_name": "Python 3 (ipykernel)",
   "language": "python",
   "name": "python3"
  },
  "language_info": {
   "codemirror_mode": {
    "name": "ipython",
    "version": 3
   },
   "file_extension": ".py",
   "mimetype": "text/x-python",
   "name": "python",
   "nbconvert_exporter": "python",
   "pygments_lexer": "ipython3",
   "version": "3.10.2"
  }
 },
 "nbformat": 4,
 "nbformat_minor": 5
}
