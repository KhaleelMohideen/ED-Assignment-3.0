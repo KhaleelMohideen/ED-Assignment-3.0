{
 "cells": [
  {
   "cell_type": "code",
   "execution_count": 5,
   "id": "8354e038",
   "metadata": {},
   "outputs": [
    {
     "name": "stdout",
     "output_type": "stream",
     "text": [
      "Hi How Are you Doing\n",
      "gnioD uoy erA woH iH\n"
     ]
    }
   ],
   "source": [
    "def reverse(k):\n",
    "  str = \"\"\n",
    "  for i in k:\n",
    "    str = i + str\n",
    "  return str\n",
    "k = \"Hi How Are you Doing\"\n",
    "print (k)\n",
    "print (reverse(k))\n"
   ]
  },
  {
   "cell_type": "code",
   "execution_count": null,
   "id": "dd8eb820",
   "metadata": {},
   "outputs": [],
   "source": []
  }
 ],
 "metadata": {
  "kernelspec": {
   "display_name": "Python 3 (ipykernel)",
   "language": "python",
   "name": "python3"
  },
  "language_info": {
   "codemirror_mode": {
    "name": "ipython",
    "version": 3
   },
   "file_extension": ".py",
   "mimetype": "text/x-python",
   "name": "python",
   "nbconvert_exporter": "python",
   "pygments_lexer": "ipython3",
   "version": "3.10.2"
  }
 },
 "nbformat": 4,
 "nbformat_minor": 5
}
