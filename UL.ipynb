{
 "cells": [
  {
   "cell_type": "code",
   "execution_count": 1,
   "id": "01352c19",
   "metadata": {},
   "outputs": [
    {
     "name": "stdout",
     "output_type": "stream",
     "text": [
      "Enter String : KHaleel NaiNa MohaMMED\n",
      "upper-case letter are :  9 \n",
      "lower-case letter are :  11\n"
     ]
    }
   ],
   "source": [
    "string = input (\"Enter String : \")\n",
    "u = l = 0\n",
    "for letter in string :\n",
    "   if ord(letter) in range (65,91):\n",
    "       u = u + 1\n",
    "   elif ord(letter) in range (97,123):\n",
    "       l = l + 1\n",
    "print(\"upper-case letter are : \",u,\"\\nlower-case letter are : \",l)"
   ]
  },
  {
   "cell_type": "code",
   "execution_count": null,
   "id": "23c02789",
   "metadata": {},
   "outputs": [],
   "source": []
  }
 ],
 "metadata": {
  "kernelspec": {
   "display_name": "Python 3 (ipykernel)",
   "language": "python",
   "name": "python3"
  },
  "language_info": {
   "codemirror_mode": {
    "name": "ipython",
    "version": 3
   },
   "file_extension": ".py",
   "mimetype": "text/x-python",
   "name": "python",
   "nbconvert_exporter": "python",
   "pygments_lexer": "ipython3",
   "version": "3.10.2"
  }
 },
 "nbformat": 4,
 "nbformat_minor": 5
}
